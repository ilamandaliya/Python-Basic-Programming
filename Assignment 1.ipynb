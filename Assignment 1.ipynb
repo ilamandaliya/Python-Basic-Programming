{
 "cells": [
  {
   "cell_type": "markdown",
   "id": "c9971b03",
   "metadata": {},
   "source": [
    "1.\tWrite a Python program to print \"Hello Python\"?"
   ]
  },
  {
   "cell_type": "code",
   "execution_count": 1,
   "id": "ad4575f9",
   "metadata": {},
   "outputs": [
    {
     "name": "stdout",
     "output_type": "stream",
     "text": [
      "Hello Python\n"
     ]
    }
   ],
   "source": [
    "print(\"Hello Python\")"
   ]
  },
  {
   "cell_type": "markdown",
   "id": "bd512d77",
   "metadata": {},
   "source": [
    "2.\tWrite a Python program to do arithmetical operations addition and division.?"
   ]
  },
  {
   "cell_type": "code",
   "execution_count": 5,
   "id": "a044f8c3",
   "metadata": {},
   "outputs": [
    {
     "name": "stdout",
     "output_type": "stream",
     "text": [
      "Please enter a:5\n",
      "Please enter b:2\n",
      "Addition is: 7\n",
      "Subtraction is 3\n"
     ]
    }
   ],
   "source": [
    "a=int(input(\"Please enter a:\"))\n",
    "b=int(input(\"Please enter b:\"))\n",
    "print(\"Addition is:\",a+b)\n",
    "print(\"Subtraction is\",a-b)\n"
   ]
  },
  {
   "cell_type": "markdown",
   "id": "adfe073b",
   "metadata": {},
   "source": [
    "3.\tWrite a Python program to find the area of a triangle?"
   ]
  },
  {
   "cell_type": "code",
   "execution_count": 4,
   "id": "f5143739",
   "metadata": {},
   "outputs": [
    {
     "name": "stdout",
     "output_type": "stream",
     "text": [
      "Please enter Base:5\n",
      "Please enter Height:2\n",
      "Area is: 5.0\n"
     ]
    }
   ],
   "source": [
    "Base=int(input(\"Please enter Base:\"))\n",
    "Height=int(input(\"Please enter Height:\"))\n",
    "print(\"Area is:\",1/2*Base*Height)"
   ]
  },
  {
   "cell_type": "markdown",
   "id": "c1e6e5a8",
   "metadata": {},
   "source": [
    "4.\tWrite a Python program to swap two variables?"
   ]
  },
  {
   "cell_type": "code",
   "execution_count": 6,
   "id": "51eea699",
   "metadata": {},
   "outputs": [
    {
     "name": "stdout",
     "output_type": "stream",
     "text": [
      "Please enter a:2\n",
      "Please enter b:3\n",
      "Before Swapping: 2 3\n",
      "After swapping: 3 2\n"
     ]
    }
   ],
   "source": [
    "a=int(input(\"Please enter a:\"))\n",
    "b=int(input(\"Please enter b:\"))\n",
    "print(\"Before Swapping:\",a,b)\n",
    "c=a\n",
    "a=b\n",
    "b=c\n",
    "print(\"After swapping:\",a,b)"
   ]
  },
  {
   "cell_type": "markdown",
   "id": "dc555103",
   "metadata": {},
   "source": [
    "5.\tWrite a Python program to generate a random number"
   ]
  },
  {
   "cell_type": "code",
   "execution_count": 9,
   "id": "22a9a973",
   "metadata": {},
   "outputs": [
    {
     "name": "stdout",
     "output_type": "stream",
     "text": [
      " Random Number: 66\n"
     ]
    }
   ],
   "source": [
    "import random\n",
    "print(' Random Number:',random.randint(0,100))"
   ]
  },
  {
   "cell_type": "code",
   "execution_count": null,
   "id": "96aef2d1",
   "metadata": {},
   "outputs": [],
   "source": []
  }
 ],
 "metadata": {
  "kernelspec": {
   "display_name": "Python 3 (ipykernel)",
   "language": "python",
   "name": "python3"
  },
  "language_info": {
   "codemirror_mode": {
    "name": "ipython",
    "version": 3
   },
   "file_extension": ".py",
   "mimetype": "text/x-python",
   "name": "python",
   "nbconvert_exporter": "python",
   "pygments_lexer": "ipython3",
   "version": "3.9.7"
  }
 },
 "nbformat": 4,
 "nbformat_minor": 5
}
